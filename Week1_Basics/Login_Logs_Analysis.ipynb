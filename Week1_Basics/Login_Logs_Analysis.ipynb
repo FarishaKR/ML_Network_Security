{
 "cells": [
  {
   "cell_type": "code",
   "execution_count": 1,
   "id": "fb900a66-3175-4ada-b009-2b5c2794f789",
   "metadata": {},
   "outputs": [
    {
     "data": {
      "text/html": [
       "<div>\n",
       "<style scoped>\n",
       "    .dataframe tbody tr th:only-of-type {\n",
       "        vertical-align: middle;\n",
       "    }\n",
       "\n",
       "    .dataframe tbody tr th {\n",
       "        vertical-align: top;\n",
       "    }\n",
       "\n",
       "    .dataframe thead th {\n",
       "        text-align: right;\n",
       "    }\n",
       "</style>\n",
       "<table border=\"1\" class=\"dataframe\">\n",
       "  <thead>\n",
       "    <tr style=\"text-align: right;\">\n",
       "      <th></th>\n",
       "      <th>timestamp</th>\n",
       "      <th>username</th>\n",
       "      <th>status</th>\n",
       "      <th>ip_address</th>\n",
       "    </tr>\n",
       "  </thead>\n",
       "  <tbody>\n",
       "    <tr>\n",
       "      <th>0</th>\n",
       "      <td>2025-08-29 09:15:10</td>\n",
       "      <td>john</td>\n",
       "      <td>success</td>\n",
       "      <td>192.168.1.10</td>\n",
       "    </tr>\n",
       "    <tr>\n",
       "      <th>1</th>\n",
       "      <td>2025-08-29 09:17:22</td>\n",
       "      <td>alice</td>\n",
       "      <td>failure</td>\n",
       "      <td>192.168.1.11</td>\n",
       "    </tr>\n",
       "    <tr>\n",
       "      <th>2</th>\n",
       "      <td>2025-08-29 09:20:05</td>\n",
       "      <td>john</td>\n",
       "      <td>failure</td>\n",
       "      <td>192.168.1.10</td>\n",
       "    </tr>\n",
       "    <tr>\n",
       "      <th>3</th>\n",
       "      <td>2025-08-29 09:25:45</td>\n",
       "      <td>bob</td>\n",
       "      <td>success</td>\n",
       "      <td>192.168.1.12</td>\n",
       "    </tr>\n",
       "    <tr>\n",
       "      <th>4</th>\n",
       "      <td>2025-08-29 09:30:15</td>\n",
       "      <td>alice</td>\n",
       "      <td>success</td>\n",
       "      <td>192.168.1.11</td>\n",
       "    </tr>\n",
       "  </tbody>\n",
       "</table>\n",
       "</div>"
      ],
      "text/plain": [
       "             timestamp username   status    ip_address\n",
       "0  2025-08-29 09:15:10     john  success  192.168.1.10\n",
       "1  2025-08-29 09:17:22    alice  failure  192.168.1.11\n",
       "2  2025-08-29 09:20:05     john  failure  192.168.1.10\n",
       "3  2025-08-29 09:25:45      bob  success  192.168.1.12\n",
       "4  2025-08-29 09:30:15    alice  success  192.168.1.11"
      ]
     },
     "execution_count": 1,
     "metadata": {},
     "output_type": "execute_result"
    }
   ],
   "source": [
    "import pandas as pd\n",
    "logs = pd.read_csv(\"login_logs.csv\")\n",
    "logs.head()"
   ]
  },
  {
   "cell_type": "code",
   "execution_count": 2,
   "id": "23f6272c-5237-4b0a-835b-f72a068ac2d2",
   "metadata": {},
   "outputs": [
    {
     "name": "stdout",
     "output_type": "stream",
     "text": [
      "<class 'pandas.core.frame.DataFrame'>\n",
      "RangeIndex: 7 entries, 0 to 6\n",
      "Data columns (total 4 columns):\n",
      " #   Column      Non-Null Count  Dtype \n",
      "---  ------      --------------  ----- \n",
      " 0   timestamp   7 non-null      object\n",
      " 1   username    7 non-null      object\n",
      " 2   status      7 non-null      object\n",
      " 3   ip_address  7 non-null      object\n",
      "dtypes: object(4)\n",
      "memory usage: 356.0+ bytes\n"
     ]
    }
   ],
   "source": [
    "logs.info()"
   ]
  },
  {
   "cell_type": "code",
   "execution_count": 3,
   "id": "08f6601e-ce25-48a1-be0c-a67bf4401d59",
   "metadata": {},
   "outputs": [
    {
     "data": {
      "text/plain": [
       "timestamp     0\n",
       "username      0\n",
       "status        0\n",
       "ip_address    0\n",
       "dtype: int64"
      ]
     },
     "execution_count": 3,
     "metadata": {},
     "output_type": "execute_result"
    }
   ],
   "source": [
    "logs.isnull().sum()"
   ]
  },
  {
   "cell_type": "code",
   "execution_count": 4,
   "id": "fda1936b-feb4-4b76-a498-7a89c6776ac2",
   "metadata": {},
   "outputs": [],
   "source": [
    "login_count = logs['username'].value_counts()"
   ]
  },
  {
   "cell_type": "code",
   "execution_count": 5,
   "id": "fc50fbe7-8391-483f-9f41-0f6a7588547c",
   "metadata": {},
   "outputs": [
    {
     "name": "stdout",
     "output_type": "stream",
     "text": [
      "username\n",
      "john     3\n",
      "alice    2\n",
      "bob      2\n",
      "Name: count, dtype: int64\n"
     ]
    }
   ],
   "source": [
    "print(login_count)"
   ]
  },
  {
   "cell_type": "code",
   "execution_count": 6,
   "id": "544207b6-4544-49c6-b4bc-b9ae2c759bac",
   "metadata": {},
   "outputs": [
    {
     "name": "stdout",
     "output_type": "stream",
     "text": [
      "status\n",
      "success    4\n",
      "failure    3\n",
      "Name: count, dtype: int64\n"
     ]
    }
   ],
   "source": [
    "status_count = logs[\"status\"].value_counts()\n",
    "print(status_count)"
   ]
  },
  {
   "cell_type": "code",
   "execution_count": 11,
   "id": "84dc8e71-cf3f-45c7-a1f1-d35e04244876",
   "metadata": {},
   "outputs": [
    {
     "name": "stdout",
     "output_type": "stream",
     "text": [
      "status    failure  success\n",
      "username                  \n",
      "alice           1        1\n",
      "bob             1        1\n",
      "john            1        2\n"
     ]
    }
   ],
   "source": [
    "status_count = logs.groupby(['username','status']).size().unstack(fill_value=0)\n",
    "print(status_count)"
   ]
  },
  {
   "cell_type": "code",
   "execution_count": 13,
   "id": "b17728be-34da-4d3b-8930-2c4e6e33241c",
   "metadata": {},
   "outputs": [
    {
     "name": "stdout",
     "output_type": "stream",
     "text": [
      "username\n",
      "alice    1\n",
      "john     1\n",
      "bob      1\n",
      "Name: count, dtype: int64\n"
     ]
    }
   ],
   "source": [
    "failed_login = logs[logs['status'] == 'failure']['username'].value_counts()\n",
    "print(failed_login)"
   ]
  },
  {
   "cell_type": "code",
   "execution_count": 16,
   "id": "b85471da-207f-4c36-b94f-49e5e32a2053",
   "metadata": {},
   "outputs": [],
   "source": [
    "logs['timestamp'] = pd.to_datetime(logs['timestamp'])"
   ]
  },
  {
   "cell_type": "code",
   "execution_count": 22,
   "id": "8fde336b-d338-4924-9780-91db05d5b618",
   "metadata": {},
   "outputs": [
    {
     "name": "stdout",
     "output_type": "stream",
     "text": [
      "2025-08-29 09:15:10 - user: john\n",
      "2025-08-29 09:17:22 - user: alice\n",
      "2025-08-29 09:20:05 - user: john\n",
      "2025-08-29 09:25:45 - user: bob\n",
      "2025-08-29 09:30:15 - user: alice\n",
      "2025-08-29 09:35:33 - user: john\n",
      "2025-08-29 09:40:50 - user: bob\n"
     ]
    }
   ],
   "source": [
    "logs['timestamp'] = pd.to_datetime(logs['timestamp'])\n",
    "for idx, row in logs.iterrows():\n",
    "    print(f\"{row['timestamp']} - user: {row['username']}\")"
   ]
  },
  {
   "cell_type": "code",
   "execution_count": 24,
   "id": "ad6adbbc-36f5-4713-8dae-3ab98e8b5874",
   "metadata": {},
   "outputs": [
    {
     "name": "stdout",
     "output_type": "stream",
     "text": [
      "hour\n",
      "9    7\n",
      "dtype: int64\n"
     ]
    }
   ],
   "source": [
    "logs['hour'] = logs['timestamp'].dt.hour\n",
    "logins_per_hour = logs.groupby('hour').size()\n",
    "print(logins_per_hour)"
   ]
  },
  {
   "cell_type": "code",
   "execution_count": 25,
   "id": "baac163f-3475-4ae7-8a42-0a51460656d0",
   "metadata": {},
   "outputs": [
    {
     "name": "stdout",
     "output_type": "stream",
     "text": [
      "hour\n",
      "9    3\n",
      "dtype: int64\n"
     ]
    }
   ],
   "source": [
    "failed_per_hour = logs[logs['status'] == 'failure'].groupby('hour').size()\n",
    "print(failed_per_hour)"
   ]
  },
  {
   "cell_type": "code",
   "execution_count": 28,
   "id": "f9ba0eb4-47e5-4662-ab3a-6ae3b80197fe",
   "metadata": {},
   "outputs": [
    {
     "data": {
      "image/png": "[encoded data removed]",
      "text/plain": [
       "<Figure size 640x480 with 1 Axes>"
      ]
     },
     "metadata": {},
     "output_type": "display_data"
    }
   ],
   "source": [
    "import matplotlib.pyplot as plt\n",
    "login_count.plot(kind ='bar', title='logins per user', color='skyblue')\n",
    "plt.xlabel('User')\n",
    "plt.ylabel('Number of Logins')\n",
    "plt.show()"
   ]
  },
  {
   "cell_type": "code",
   "execution_count": 31,
   "id": "46d9bfe9-ea81-429f-8bdb-ece099c01bf7",
   "metadata": {},
   "outputs": [
    {
     "data": {
      "image/png": "[encoded data removed]",
      "text/plain": [
       "<Figure size 640x480 with 1 Axes>"
      ]
     },
     "metadata": {},
     "output_type": "display_data"
    }
   ],
   "source": [
    "failed_per_hour.plot(kind='line', title='Failed Logins per Hour', marker='o', color='red')\n",
    "plt.xlabel('Hour of Day')\n",
    "plt.ylabel('Number of Failed Logins')\n",
    "plt.show()"
   ]
  },
  {
   "cell_type": "code",
   "execution_count": null,
   "id": "6fd7a2f4-2964-40fd-b49a-700c52cfc3de",
   "metadata": {},
   "outputs": [],
   "source": [
    "import numpy as np\n",
    "user1 = np.array([1,0,0,1,0,0,0])\n",
    "user2 = np.array([1,1,1,1,1])\n",
    "user3 = np.array([0,0,0,0,0])\n",
    "def check_suspicious(login, threshold=0.6):\n",
    "    failures = np.sum(login == 0)\n",
    "    total = login.size\n",
    "    fail_rate = failures / total\n",
    "    return fail_rate > threshold\n",
    "\n",
    "print(\"user1 suspicious?\", check_suspicious(user1))\n",
    "print(\"user2 suspicious?\", check_suspicious(user2))\n",
    "print(\"user3 suspicious?\", check_suspicious(user3))"
   ]
  }
 ],
 "metadata": {
  "kernelspec": {
   "display_name": "Python 3 (ipykernel)",
   "language": "python",
   "name": "python3"
  },
  "language_info": {
   "codemirror_mode": {
    "name": "ipython",
    "version": 3
   },
   "file_extension": ".py",
   "mimetype": "text/x-python",
   "name": "python",
   "nbconvert_exporter": "python",
   "pygments_lexer": "ipython3",
   "version": "3.13.5"
  }
 },
 "nbformat": 4,
 "nbformat_minor": 5
}
